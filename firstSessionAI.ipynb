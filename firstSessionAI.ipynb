{
 "cells": [
  {
   "cell_type": "markdown",
   "metadata": {},
   "source": [
    "# 1. Class and Object"
   ]
  },
  {
   "cell_type": "markdown",
   "metadata": {},
   "source": [
    "## Task#1"
   ]
  },
  {
   "cell_type": "code",
   "execution_count": 19,
   "metadata": {},
   "outputs": [
    {
     "name": "stdout",
     "output_type": "stream",
     "text": [
      " BMW, M5, 2022\n",
      " Toyota, Grande, 2023\n",
      " Hyundai, Sonata N-Line, 2024\n"
     ]
    }
   ],
   "source": [
    "class Car:\n",
    "    def __init__(self, brand, model, year):\n",
    "        self.brand = brand\n",
    "        self.model = model\n",
    "        self.year = year\n",
    "        \n",
    "    def displayInfo(self):\n",
    "        print(f\" {self.brand}, {self.model}, {self.year}\")\n",
    "\n",
    "car1 = Car(\"BMW\", \"M5\", 2022)\n",
    "car1.displayInfo()\n",
    "\n",
    "car2 = Car(\"Toyota\", \"Grande\", 2023)\n",
    "car2.displayInfo()\n",
    "\n",
    "car3 = Car(\"Hyundai\", \"Sonata N-Line\", 2024)\n",
    "car3.displayInfo()"
   ]
  },
  {
   "cell_type": "markdown",
   "metadata": {},
   "source": [
    "## Task#2"
   ]
  },
  {
   "cell_type": "code",
   "execution_count": 14,
   "metadata": {},
   "outputs": [
    {
     "name": "stdout",
     "output_type": "stream",
     "text": [
      "Name: Muhammad Bilal \n",
      "Age: 23\n",
      "Name: Muhammad Hassan Sajid \n",
      "Age: 22\n"
     ]
    }
   ],
   "source": [
    "class Person:\n",
    "    def __init__ (self, name, age):\n",
    "        self.name = name\n",
    "        self.age = age\n",
    "    \n",
    "    def introduce(self):\n",
    "        print(f\"Name: {self.name} \\nAge: {self.age}\")\n",
    "\n",
    "p1 = Person(\"Muhammad Bilal\", 23)\n",
    "p1.introduce()\n",
    "\n",
    "p2 = Person(\"Muhammad Hassan Sajid\", 22)\n",
    "p2.introduce()"
   ]
  },
  {
   "cell_type": "markdown",
   "metadata": {},
   "source": [
    "# 2. Class Attriute vs Object Attribute"
   ]
  },
  {
   "cell_type": "markdown",
   "metadata": {},
   "source": [
    "## Task#3"
   ]
  },
  {
   "cell_type": "code",
   "execution_count": 18,
   "metadata": {},
   "outputs": [
    {
     "name": "stdout",
     "output_type": "stream",
     "text": [
      "Name: ABC, Designation: Admin, Company Name: TechCorp\n",
      "Name: XYZ, Designation: Network, Company Name: TechCorp\n"
     ]
    }
   ],
   "source": [
    "class Company:\n",
    "    companyName = \"TechCorp\"\n",
    "    \n",
    "    def __init__(self, employeeName, designation):\n",
    "        self.employeeName = employeeName\n",
    "        self.designation = designation\n",
    "    \n",
    "    def printInfo(self):\n",
    "        print(f\"Name: {self.employeeName}, Designation: {self.designation}, Company Name: {self.companyName}\")\n",
    "\n",
    "e1 = Company(\"ABC\", \"Admin\")\n",
    "e1.printInfo()\n",
    "\n",
    "e2 = Company(\"XYZ\", \"Network\")\n",
    "e2.printInfo()"
   ]
  },
  {
   "cell_type": "markdown",
   "metadata": {},
   "source": [
    "# 3. Methods and Its Type"
   ]
  },
  {
   "cell_type": "markdown",
   "metadata": {},
   "source": [
    "## Task#4"
   ]
  },
  {
   "cell_type": "code",
   "execution_count": 28,
   "metadata": {},
   "outputs": [
    {
     "name": "stdout",
     "output_type": "stream",
     "text": [
      "Name: MNO, Salary: $950\n",
      "New Auto\n",
      "This is general policy of this company.\n"
     ]
    }
   ],
   "source": [
    "class Employee:\n",
    "    company = \"TechCorp\"\n",
    "    \n",
    "    def __init__(self, name, salary):\n",
    "        self.name = name\n",
    "        self.salary = salary\n",
    "    def showDetails(self):#instance method\n",
    "        print(f\"Name: {self.name}, Salary: ${self.salary}\")\n",
    "    \n",
    "    @classmethod \n",
    "    def updateName(cls, newName):\n",
    "        cls.company = newName\n",
    "    def printInfo(self): #class method\n",
    "        print(f\"Company Name: {Car.company}\")\n",
    "        \n",
    "    def generalInfo(self): #static method\n",
    "        print(\"This is general policy of this company.\")\n",
    "        \n",
    "e1 = Employee(\"MNO\", 950)\n",
    "\n",
    "e1.showDetails() #instace method \n",
    "e1.updateName(\"New Auto\") #class method\n",
    "print(e1.company)\n",
    "e1.generalInfo() #static method"
   ]
  },
  {
   "cell_type": "markdown",
   "metadata": {},
   "source": [
    "# 4. Encapsulation"
   ]
  },
  {
   "cell_type": "markdown",
   "metadata": {},
   "source": [
    "## Task#5"
   ]
  },
  {
   "cell_type": "code",
   "execution_count": 31,
   "metadata": {},
   "outputs": [
    {
     "name": "stdout",
     "output_type": "stream",
     "text": [
      "510000\n"
     ]
    }
   ],
   "source": [
    "class BankAccount:\n",
    "    def __init__(self, balance):\n",
    "        self.__balance = balance #private variable\n",
    "        \n",
    "    def deposit(self, amount):\n",
    "        self.__balance += amount\n",
    "    \n",
    "    def viewBalance(self):\n",
    "        return self.__balance\n",
    "    \n",
    "acc1 = BankAccount(10000)\n",
    "acc1.deposit(500000)\n",
    "print(acc1.viewBalance())"
   ]
  },
  {
   "cell_type": "markdown",
   "metadata": {},
   "source": [
    "# 5. Inheritance"
   ]
  },
  {
   "cell_type": "markdown",
   "metadata": {},
   "source": [
    "## Task#6"
   ]
  },
  {
   "cell_type": "code",
   "execution_count": 33,
   "metadata": {},
   "outputs": [
    {
     "name": "stdout",
     "output_type": "stream",
     "text": [
      "Buddy barks\n"
     ]
    }
   ],
   "source": [
    "class Animal:\n",
    "    def __init__(self, name):\n",
    "        self.name = name\n",
    "    def speak(self):\n",
    "        print(f\"{self.name} makes a sound\")\n",
    "\n",
    "class Dog(Animal):\n",
    "    def speak(self):\n",
    "            print(f\"{self.name} barks\")\n",
    "\n",
    "dog = Dog(\"Buddy\")\n",
    "dog.speak()"
   ]
  },
  {
   "cell_type": "markdown",
   "metadata": {},
   "source": [
    "## Task#7"
   ]
  },
  {
   "cell_type": "code",
   "execution_count": 35,
   "metadata": {},
   "outputs": [
    {
     "name": "stdout",
     "output_type": "stream",
     "text": [
      "Brand: Toyota\n",
      "Brand: Hyundai\n"
     ]
    }
   ],
   "source": [
    "class Vehicle:\n",
    "    def __init__(self, brand):\n",
    "        self.brand = brand\n",
    "    \n",
    "    def vehicleInfo(self):\n",
    "        print(f\"Brand: {self.brand}\")\n",
    "\n",
    "class Toyota(Vehicle):\n",
    "    def vehicleInfo(self):\n",
    "        print(f\"Brand: {self.brand}\")\n",
    "        \n",
    "class Hyundai(Vehicle):\n",
    "    def vehicleInfo(self):\n",
    "        print(f\"Brand: {self.brand}\")\n",
    "\n",
    "car1 = Toyota(\"Toyota\")\n",
    "car1.vehicleInfo()\n",
    "\n",
    "car2 = Hyundai(\"Hyundai\")\n",
    "car2.vehicleInfo()"
   ]
  }
 ],
 "metadata": {
  "kernelspec": {
   "display_name": "Python 3",
   "language": "python",
   "name": "python3"
  },
  "language_info": {
   "codemirror_mode": {
    "name": "ipython",
    "version": 3
   },
   "file_extension": ".py",
   "mimetype": "text/x-python",
   "name": "python",
   "nbconvert_exporter": "python",
   "pygments_lexer": "ipython3",
   "version": "3.6.5"
  }
 },
 "nbformat": 4,
 "nbformat_minor": 2
}
